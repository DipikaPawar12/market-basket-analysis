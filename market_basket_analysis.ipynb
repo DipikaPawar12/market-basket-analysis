{
  "nbformat": 4,
  "nbformat_minor": 0,
  "metadata": {
    "kernelspec": {
      "display_name": "Python 3",
      "language": "python",
      "name": "python3"
    },
    "language_info": {
      "codemirror_mode": {
        "name": "ipython",
        "version": 3
      },
      "file_extension": ".py",
      "mimetype": "text/x-python",
      "name": "python",
      "nbconvert_exporter": "python",
      "pygments_lexer": "ipython3",
      "version": "3.6.4"
    },
    "colab": {
      "name": "market basket analysis.ipynb",
      "provenance": [],
      "collapsed_sections": [
        "X8j2A6hrvVou"
      ]
    }
  },
  "cells": [
    {
      "cell_type": "markdown",
      "metadata": {
        "id": "7ue4VrIBvVnR"
      },
      "source": [
        "## Import libraries ##"
      ]
    },
    {
      "cell_type": "code",
      "metadata": {
        "id": "n1wW_0MhvVnS"
      },
      "source": [
        "# importing the required libraries\n",
        "%matplotlib inline\n",
        "import numpy as np \n",
        "import pandas as pd\n",
        "import matplotlib.pyplot as plt\n",
        "from mlxtend.frequent_patterns import apriori\n",
        "from mlxtend.frequent_patterns import association_rules"
      ],
      "execution_count": null,
      "outputs": []
    },
    {
      "cell_type": "code",
      "metadata": {
        "id": "P4CnMlClb3Su"
      },
      "source": [
        "from google.colab import drive\n",
        "drive.mount(\"/content/gdrive\")"
      ],
      "execution_count": null,
      "outputs": []
    },
    {
      "cell_type": "code",
      "metadata": {
        "id": "OvS7ATAkb3tB"
      },
      "source": [
        "#reading the csv file from drive\n",
        "import pandas as pd\n",
        "bread = pd.read_csv('/content/gdrive/My Drive/BreadBasket_DMS.csv')"
      ],
      "execution_count": null,
      "outputs": []
    },
    {
      "cell_type": "markdown",
      "metadata": {
        "id": "zzw09a2TvVnW"
      },
      "source": [
        "## Data Information ##"
      ]
    },
    {
      "cell_type": "code",
      "metadata": {
        "id": "wg4UvCnOvVnX"
      },
      "source": [
        "#displaying the initial data\n",
        "bread.head(10)"
      ],
      "execution_count": null,
      "outputs": []
    },
    {
      "cell_type": "code",
      "metadata": {
        "id": "7GXXKnoHvVnb"
      },
      "source": [
        "#display data summary\n",
        "bread.info()"
      ],
      "execution_count": null,
      "outputs": []
    },
    {
      "cell_type": "markdown",
      "metadata": {
        "id": "NVvjtcUfvVnf"
      },
      "source": [
        "***\n",
        "## Check if any values missing ##"
      ]
    },
    {
      "cell_type": "code",
      "metadata": {
        "id": "nlkVxSAUvVng"
      },
      "source": [
        "# check for missing values\n",
        "bread.isnull().sum()"
      ],
      "execution_count": null,
      "outputs": []
    },
    {
      "cell_type": "code",
      "metadata": {
        "id": "RVMr7SkwvVnj"
      },
      "source": [
        "missing_value = [\"NaN\", \"NONE\", \"None\", \"Nil\", \"nan\", \"none\", \"nil\", 0]\n",
        "print(\"There are {0} missing values in the dataframe.\".format(len(bread[bread.Item.isin(missing_value)])))\n",
        "bread[bread.Item.isin(missing_value)].head(10)"
      ],
      "execution_count": null,
      "outputs": []
    },
    {
      "cell_type": "code",
      "metadata": {
        "id": "ZKICLexBvVnn"
      },
      "source": [
        "bread = bread.drop(bread[bread.Item == \"NONE\"].index)\n",
        "bread = bread[bread.Transaction>0]\n",
        "print(\"Number of rows: {0}\".format(len(bread)))\n",
        "bread.head(10)"
      ],
      "execution_count": null,
      "outputs": []
    },
    {
      "cell_type": "markdown",
      "metadata": {
        "id": "CYw-owWYvVnq"
      },
      "source": [
        "***\n",
        "## Merge Data and Time to DatetimeIndex ##"
      ]
    },
    {
      "cell_type": "code",
      "metadata": {
        "id": "1JRp09H9vVnq"
      },
      "source": [
        "bread['Datetime'] = pd.to_datetime(bread['Date']+' '+bread['Time'])\n",
        "bread = bread[[\"Datetime\", \"Transaction\", \"Item\"]].set_index(\"Datetime\")\n",
        "bread.head(10)"
      ],
      "execution_count": null,
      "outputs": []
    },
    {
      "cell_type": "code",
      "metadata": {
        "id": "6hJwgGW_yC4Z"
      },
      "source": [
        "#description of the dataset\n",
        "Ser = bread.groupby('Transaction').nunique()\n",
        "Ser.describe()"
      ],
      "execution_count": null,
      "outputs": []
    },
    {
      "cell_type": "markdown",
      "metadata": {
        "id": "7yelalnJvVnt"
      },
      "source": [
        "### Brief summary of the data ###"
      ]
    },
    {
      "cell_type": "code",
      "metadata": {
        "id": "bHssfnz4vVnt"
      },
      "source": [
        "total_items = len(bread)\n",
        "total_days = len(np.unique(bread.index.date))\n",
        "total_months = len(np.unique(bread.index.month))\n",
        "average_items = total_items / total_days\n",
        "unique_items = bread.Item.unique().size\n",
        "\n",
        "print(\"Bakery sells {} unique items \".format(unique_items))\n",
        "print(\"Total {} items sold in {} days within {} months\".format(total_items, total_days, total_months))\n",
        "print(\"About an average of {} items are sold daily\".format(average_items))\n"
      ],
      "execution_count": null,
      "outputs": []
    },
    {
      "cell_type": "markdown",
      "metadata": {
        "id": "6DRPtAr3vVnw"
      },
      "source": [
        "***\n",
        "## Visualization ##"
      ]
    },
    {
      "cell_type": "code",
      "metadata": {
        "id": "BWXQQXV40hG-"
      },
      "source": [
        "plt.figure(figsize=(10,10))\n",
        "temp_series = bread['Item'].value_counts()\n",
        "labels = (np.array(temp_series.index))\n",
        "sizes = (np.array((temp_series / temp_series.sum())*100))\n",
        "plt.pie(sizes, labels=labels, \n",
        "        autopct='%1.1f%%', startangle=200)\n",
        "plt.title(\"Departments distribution\", fontsize=15)\n",
        "plt.savefig('Pie-chart')\n",
        "plt.show()"
      ],
      "execution_count": null,
      "outputs": []
    },
    {
      "cell_type": "code",
      "metadata": {
        "id": "JJri6mUbev4o"
      },
      "source": [
        "# Plot histogram using matplotlib bar()\r\n",
        "counter = Counter(df['Date'].dt.month)\r\n",
        "\r\n",
        "author_names = counter.keys()\r\n",
        "author_counts = counter.values()\r\n",
        "print(len(counter))\r\n",
        "\r\n",
        "indexes = np.arange(len(author_names))\r\n",
        "width = 0.7\r\n",
        "plt.bar(indexes, author_counts, width)\r\n",
        "plt.xticks(indexes + width * 0.5, author_names)\r\n",
        "plt.savefig('ss')\r\n",
        "plt.title('Item Frequency')\r\n",
        "plt.xlabel('Item Name')\r\n",
        "plt.ylabel('Item Frequency')\r\n",
        "plt.show()"
      ],
      "execution_count": null,
      "outputs": []
    },
    {
      "cell_type": "code",
      "metadata": {
        "id": "U3A4Kv7FvVnx"
      },
      "source": [
        "# ranking the top 10 best-selling items\n",
        "bread.Item.value_counts(normalize=True)[:10]"
      ],
      "execution_count": null,
      "outputs": []
    },
    {
      "cell_type": "code",
      "metadata": {
        "id": "-E-mYTPKvVn0"
      },
      "source": [
        "# create a bar chart, rank by percentage\n",
        "bread.Item.value_counts(normalize=True)[:10].plot(kind=\"bar\", title=\"Percentage of Sales by Item\").set(xlabel=\"Item\", ylabel=\"Percentage\")"
      ],
      "execution_count": null,
      "outputs": []
    },
    {
      "cell_type": "code",
      "metadata": {
        "id": "VVDJzcMIvVn2"
      },
      "source": [
        "# create a bar chart, rank by value\n",
        "bread.Item.value_counts()[:10].plot(kind=\"bar\", title=\"Total Number of Sales by Item\").set(xlabel=\"Item\", ylabel=\"Total Number\")"
      ],
      "execution_count": null,
      "outputs": []
    },
    {
      "cell_type": "code",
      "metadata": {
        "id": "c22BMO2evVn5"
      },
      "source": [
        "# plot time series chart of number of items by day\n",
        "bread[\"Item\"].resample(\"D\").count().plot(figsize=(12,5), grid=True, title=\"Total Number of Items Sold by Date\").set(xlabel=\"Date\", ylabel=\"Total Number of Items Sold\")"
      ],
      "execution_count": null,
      "outputs": []
    },
    {
      "cell_type": "code",
      "metadata": {
        "id": "Cs1UlvGKvVn8"
      },
      "source": [
        "bread[\"Item\"].resample(\"M\").count()"
      ],
      "execution_count": null,
      "outputs": []
    },
    {
      "cell_type": "code",
      "metadata": {
        "id": "u6nNBd-AvVn_"
      },
      "source": [
        "# plot time series chart of number of items by month\n",
        "bread[\"Item\"].resample(\"M\").count().plot(figsize=(12,5), grid=True, title=\"Total Number by Items Sold by Month\").set(xlabel=\"Date\", ylabel=\"Total Number of Items Sold\")"
      ],
      "execution_count": null,
      "outputs": []
    },
    {
      "cell_type": "code",
      "metadata": {
        "id": "wqSZs7zbvVoC"
      },
      "source": [
        "# extract hour of the day and weekday of the week\n",
        "# For Datetimeindex, the day of the week with Monday=0, Sunday=6, thereby +1 to become Monday=1, Sunday=7\n",
        "bread[\"Hour\"] = bread.index.hour\n",
        "bread[\"Weekday\"] = bread.index.weekday + 1\n",
        "\n",
        "bread.head(10)"
      ],
      "execution_count": null,
      "outputs": []
    },
    {
      "cell_type": "code",
      "metadata": {
        "id": "acW4Xyn0vVoE"
      },
      "source": [
        "bread_groupby_hour = bread.groupby(\"Hour\").agg({\"Item\": lambda item: item.count()/total_days})\n",
        "bread_groupby_hour"
      ],
      "execution_count": null,
      "outputs": []
    },
    {
      "cell_type": "code",
      "metadata": {
        "id": "Y1bSQa9bvVoJ"
      },
      "source": [
        "# plot the chart\n",
        "bread_groupby_hour.plot(y=\"Item\", figsize=(12,5), title=\"Average Number by Items Sold by Hour of the Day\").set(xlabel=\"Hour of the Day (24 hour time)\", ylabel=\"Average Number of Items Sold\")"
      ],
      "execution_count": null,
      "outputs": []
    },
    {
      "cell_type": "code",
      "metadata": {
        "id": "cBMl0soJvVoN"
      },
      "source": [
        "# sales groupby weekday\n",
        "bread_groupby_weekday = bread.groupby(\"Weekday\").agg({\"Item\": lambda item: item.count()})\n",
        "bread_groupby_weekday"
      ],
      "execution_count": null,
      "outputs": []
    },
    {
      "cell_type": "code",
      "metadata": {
        "id": "U69hrMBRvVoP"
      },
      "source": [
        "# but we need to find out how many each weekday in that period of transaction\n",
        "# in order to calculate the average items per weekday\n",
        "\n",
        "import datetime \n",
        "daterange = pd.date_range(datetime.date(2016, 10, 30), datetime.date(2017, 4, 9))\n",
        "\n",
        "monday = 0\n",
        "tuesday = 0\n",
        "wednesday = 0\n",
        "thursday = 0\n",
        "friday = 0\n",
        "saturday = 0\n",
        "sunday = 0\n",
        "\n",
        "for day in np.unique(bread.index.date):\n",
        "    if day.isoweekday() == 1:\n",
        "        monday += 1\n",
        "    elif day.isoweekday() == 2:\n",
        "        tuesday += 1\n",
        "    elif day.isoweekday() == 3:\n",
        "        wednesday += 1\n",
        "    elif day.isoweekday() == 4:\n",
        "        thursday += 1        \n",
        "    elif day.isoweekday() == 5:\n",
        "        friday += 1        \n",
        "    elif day.isoweekday() == 6:\n",
        "        saturday += 1        \n",
        "    elif day.isoweekday() == 7:\n",
        "        sunday += 1        \n",
        "        \n",
        "all_weekdays = monday + tuesday + wednesday + thursday + friday + saturday + sunday\n",
        "\n",
        "print(\"monday = {0}, tuesday = {1}, wednesday = {2}, thursday = {3}, friday = {4}, saturday = {5}, sunday = {6}, total = {7}\".format(monday, tuesday, wednesday, thursday, friday, saturday, sunday, all_weekdays))"
      ],
      "execution_count": null,
      "outputs": []
    },
    {
      "cell_type": "code",
      "metadata": {
        "id": "79m5uT_UvVoR"
      },
      "source": [
        "# apply the conditions to calculate the average items for each weekday\n",
        "conditions = [\n",
        "    (bread_groupby_weekday.index == 1),\n",
        "    (bread_groupby_weekday.index == 2),\n",
        "    (bread_groupby_weekday.index == 3),\n",
        "    (bread_groupby_weekday.index == 4),\n",
        "    (bread_groupby_weekday.index == 5),\n",
        "    (bread_groupby_weekday.index == 6),\n",
        "    (bread_groupby_weekday.index == 7)]\n",
        "\n",
        "choices = [bread_groupby_weekday.Item/21, bread_groupby_weekday.Item/23, bread_groupby_weekday.Item/23, bread_groupby_weekday.Item/23, bread_groupby_weekday.Item/23, bread_groupby_weekday.Item/23, bread_groupby_weekday.Item/23]\n",
        "\n",
        "bread_groupby_weekday[\"Average\"] = np.select(conditions, choices, default=0)\n",
        "bread_groupby_weekday"
      ],
      "execution_count": null,
      "outputs": []
    },
    {
      "cell_type": "code",
      "metadata": {
        "id": "cK9iFlJEvVoU"
      },
      "source": [
        "bread_groupby_weekday.plot(y=\"Average\", figsize=(12,5), title=\"Average Number by Items Sold by Day of the Week\").set(xlabel=\"Day of the Week (1=Monday, 7=Sunday)\", ylabel=\"Average Number of Items Sold\")"
      ],
      "execution_count": null,
      "outputs": []
    },
    {
      "cell_type": "markdown",
      "metadata": {
        "id": "kbtyIFkzvVoX"
      },
      "source": [
        "***\n",
        "## Performing encoding of the data(One-hot encoding) ##"
      ]
    },
    {
      "cell_type": "code",
      "metadata": {
        "id": "oXj4wSfUvVoZ"
      },
      "source": [
        "df = bread.groupby([\"Transaction\",\"Item\"]).size().reset_index(name=\"Count\")\n",
        "df.head()"
      ],
      "execution_count": null,
      "outputs": []
    },
    {
      "cell_type": "code",
      "metadata": {
        "id": "0Ovp9tKovVoc"
      },
      "source": [
        "basket = (df.groupby(['Transaction', 'Item'])['Count']\n",
        "          .sum().unstack().reset_index().fillna(0)\n",
        "          .set_index('Transaction'))\n",
        "basket.head()"
      ],
      "execution_count": null,
      "outputs": []
    },
    {
      "cell_type": "code",
      "metadata": {
        "id": "oIVeBD-dvVoe"
      },
      "source": [
        "basket[basket.Coffee == 4].iloc[:,14:28]"
      ],
      "execution_count": null,
      "outputs": []
    },
    {
      "cell_type": "code",
      "metadata": {
        "id": "Dpr8mz4HvVog"
      },
      "source": [
        "# the encoding function\n",
        "def encode_units(x):\n",
        "    if x <= 0:\n",
        "        return 0\n",
        "    if x >= 1:\n",
        "        return 1\n"
      ],
      "execution_count": null,
      "outputs": []
    },
    {
      "cell_type": "code",
      "metadata": {
        "id": "HlXOIZdPvVoj"
      },
      "source": [
        "basket_sets = basket.applymap(encode_units)\n",
        "basket_sets.head()"
      ],
      "execution_count": null,
      "outputs": []
    },
    {
      "cell_type": "code",
      "metadata": {
        "id": "hsqZq-SYvVol"
      },
      "source": [
        "basket_sets[basket_sets.Coffee == 1].iloc[3142:3145,14:28]"
      ],
      "execution_count": null,
      "outputs": []
    },
    {
      "cell_type": "markdown",
      "metadata": {
        "id": "lZFZ6BIUvVoo"
      },
      "source": [
        "***\n",
        "## Displaying the frequent itemsets ##\n",
        "We assume minimum-support threshold of 1%\n"
      ]
    },
    {
      "cell_type": "code",
      "metadata": {
        "id": "P3VOsX6avVoo"
      },
      "source": [
        "frequent_itemsets = apriori(basket_sets, min_support=0.01, use_colnames=True)\n",
        "frequent_itemsets1 = apriori(basket_sets, min_support=0.005, use_colnames=True)\n",
        "frequent_itemsets2 = apriori(basket_sets, min_support=0.001, use_colnames=True)"
      ],
      "execution_count": null,
      "outputs": []
    },
    {
      "cell_type": "markdown",
      "metadata": {
        "id": "2R0hQ8f0vVoq"
      },
      "source": [
        "## Displaying association rules ##\n",
        "Generate the rules with their corresponding support, confidence and lift with minimum threshold for lift of 1% sorted by descending confidence value."
      ]
    },
    {
      "cell_type": "code",
      "metadata": {
        "id": "RdRHcoWrAjVl"
      },
      "source": [
        "rules = association_rules(frequent_itemsets, metric=\"lift\", min_threshold=1)\n",
        "rules.sort_values(\"confidence\", ascending = False, inplace = True)\n",
        "rules[:50]"
      ],
      "execution_count": null,
      "outputs": []
    },
    {
      "cell_type": "code",
      "metadata": {
        "id": "Esbt1t7-fQ_l"
      },
      "source": [
        "#displaying the comparison of rules for various suppoort values\n",
        "from collections import Counter\n",
        "import itertools \n",
        "counter = Counter(rules['confidence'])\n",
        "\n",
        "\n",
        "for i in range(len(rules)):\n",
        "  rules.confidence[i] = round(rules.confidence[i],1)\n",
        "\n",
        "print(counter)\n",
        "width = 2\n",
        "\n",
        "lists = sorted(counter.items()) # sorted by key, return a list of tuples\n",
        "\n",
        "x, y = zip(*lists) # unpack a list of pairs into two tuples\n",
        "#-------------------\n",
        "counter1 = Counter(rules1['confidence'])\n",
        "\n",
        "\n",
        "for i in range(len(rules1)):\n",
        "  rules1.confidence[i] = round(rules1.confidence[i],1)\n",
        "\n",
        "print(counter1)\n",
        "width = 2\n",
        "\n",
        "lists1 = sorted(counter1.items()) # sorted by key, return a list of tuples\n",
        "\n",
        "x1, y1 = zip(*lists1)\n",
        "#-------------------------\n",
        "counter2 = Counter(rules2['confidence'])\n",
        "\n",
        "\n",
        "for i in range(len(rules2)):\n",
        "  rules2.confidence[i] = round(rules2.confidence[i],1)\n",
        "\n",
        "print(counter2)\n",
        "width = 2\n",
        "\n",
        "lists2 = sorted(counter2.items()) # sorted by key, return a list of tuples\n",
        "\n",
        "x2, y2 = zip(*lists2)\n",
        "\n",
        "plt.plot(x, y,'bo-')\n",
        "plt.plot(x1, y1,'ko-')\n",
        "plt.plot(x2, y2,'ro-')\n",
        "\n",
        "plt.legend([\"min-support:1%\", \"min-support:0.5%\",\"min-support:0.1%\"])\n",
        "plt.savefig('1%')\n",
        "plt.show()\n"
      ],
      "execution_count": null,
      "outputs": []
    }
  ]
}